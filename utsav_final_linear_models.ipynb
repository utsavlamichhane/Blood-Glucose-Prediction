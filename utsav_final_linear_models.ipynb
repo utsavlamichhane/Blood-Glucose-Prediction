{
  "nbformat": 4,
  "nbformat_minor": 0,
  "metadata": {
    "colab": {
      "provenance": [],
      "authorship_tag": "ABX9TyP+1OFTR4JH82RMlXkvgLL4",
      "include_colab_link": true
    },
    "kernelspec": {
      "name": "ir",
      "display_name": "R"
    },
    "language_info": {
      "name": "R"
    }
  },
  "cells": [
    {
      "cell_type": "markdown",
      "metadata": {
        "id": "view-in-github",
        "colab_type": "text"
      },
      "source": [
        "<a href=\"https://colab.research.google.com/github/utsavlamichhane/Blood-Glucose-Prediction/blob/main/utsav_final_linear_models.ipynb\" target=\"_parent\"><img src=\"https://colab.research.google.com/assets/colab-badge.svg\" alt=\"Open In Colab\"/></a>"
      ]
    },
    {
      "cell_type": "markdown",
      "source": [
        "**Split-Plot Design Analyisis.**\n",
        "\n",
        "\n",
        "1. MANUAL ANOVA"
      ],
      "metadata": {
        "id": "1ZuFvSpuqUF5"
      }
    },
    {
      "cell_type": "markdown",
      "source": [
        "Lets load the library and the data."
      ],
      "metadata": {
        "id": "8pX7bqi9qn3W"
      }
    },
    {
      "cell_type": "code",
      "execution_count": 1,
      "metadata": {
        "colab": {
          "base_uri": "https://localhost:8080/",
          "height": 0
        },
        "id": "qEoGPWOvks76",
        "outputId": "a17d683b-2bb6-411f-c6ce-0129dda7b772"
      },
      "outputs": [
        {
          "output_type": "stream",
          "name": "stderr",
          "text": [
            "\n",
            "Attaching package: ‘dplyr’\n",
            "\n",
            "\n",
            "The following objects are masked from ‘package:stats’:\n",
            "\n",
            "    filter, lag\n",
            "\n",
            "\n",
            "The following objects are masked from ‘package:base’:\n",
            "\n",
            "    intersect, setdiff, setequal, union\n",
            "\n",
            "\n"
          ]
        }
      ],
      "source": [
        "library(readxl); library(dplyr)\n",
        "H <- c(\"Toledo\",\"423\",\"465\",\"Mulato\",\"Talismán\")\n",
        "d <- read_excel(\"spd.xlsx\", sheet=\"Analysis\") %>%\n",
        "  filter(Hy %in% H) %>%\n",
        "  mutate(\n",
        "    Block = factor(Block),\n",
        "    Tr    = factor(Tr, levels=c(\"Shade\",\"Sun\")),\n",
        "    Hy    = factor(Hy)\n",
        "  )\n"
      ]
    },
    {
      "cell_type": "markdown",
      "source": [
        "Ok, now I will cjecj the balnace before going to the Constants and the means."
      ],
      "metadata": {
        "id": "xGeYPENkqyCy"
      }
    },
    {
      "cell_type": "code",
      "source": [
        "\n",
        "cat(\"Obs per Block×Tr:\\n\"); print(table(d$Block, d$Tr))\n",
        "cat(\"\\nObs per Hybrid×Tr:\\n\"); print(table(d$Hy,   d$Tr))\n",
        "\n",
        "\n",
        "b  <- n_distinct(d$Block)    # 12\n",
        "a  <- n_distinct(d$Tr)       # 2\n",
        "s  <- n_distinct(d$Hy)       # 5\n",
        "N  <- nrow(d)                # 120\n",
        "gm <- mean(d$Total)\n",
        "cat(\"\\nGrand mean =\", round(gm,2), \"\\n\\n\")"
      ],
      "metadata": {
        "colab": {
          "base_uri": "https://localhost:8080/",
          "height": 0
        },
        "id": "WmTk3izRk8Bs",
        "outputId": "aa45eb72-5c1c-4548-cf0d-b6536498b340"
      },
      "execution_count": 2,
      "outputs": [
        {
          "output_type": "stream",
          "name": "stdout",
          "text": [
            "Obs per Block×Tr:\n",
            "   \n",
            "    Shade Sun\n",
            "  1    20  20\n",
            "  2    20  20\n",
            "  3    20  20\n",
            "\n",
            "Obs per Hybrid×Tr:\n",
            "          \n",
            "           Shade Sun\n",
            "  423         12  12\n",
            "  465         12  12\n",
            "  Mulato      12  12\n",
            "  Talismán    12  12\n",
            "  Toledo      12  12\n",
            "\n",
            "Grand mean = 948.1 \n",
            "\n"
          ]
        }
      ]
    },
    {
      "cell_type": "markdown",
      "source": [
        "Now, the cell means."
      ],
      "metadata": {
        "id": "EQPmlHlhq9hi"
      }
    },
    {
      "cell_type": "code",
      "source": [
        "\n",
        "block_means <- d %>% group_by(Block) %>% summarize(bm=mean(Total), .groups=\"drop\")\n",
        "A_means     <- d %>% group_by(Tr)    %>% summarize(Am=mean(Total), .groups=\"drop\")\n",
        "B_means     <- d %>% group_by(Hy)    %>% summarize(Bm=mean(Total), .groups=\"drop\")\n",
        "wp          <- d %>% group_by(Block,Tr) %>% summarize(wpm=mean(Total), .groups=\"drop\")\n",
        "AB_marg     <- d %>% group_by(Tr,Hy)     %>% summarize(abm=mean(Total), .groups=\"drop\")"
      ],
      "metadata": {
        "id": "bCaJ3dK9k_aP"
      },
      "execution_count": 3,
      "outputs": []
    },
    {
      "cell_type": "markdown",
      "source": [
        "Now, I will calculate the folloiwng:\n",
        "- SS\n",
        "- Whole-plot error I mean SS(Block: Tr)\n",
        "- subplot interaction: SS(Tr:Hy)\n",
        "- residual"
      ],
      "metadata": {
        "id": "z026yyDNrCK7"
      }
    },
    {
      "cell_type": "code",
      "source": [
        "\n",
        "SS_Block   <- a * s * sum((block_means$bm - gm)^2)\n",
        "SS_Tr      <- b * s * sum((A_means$Am    - gm)^2)\n",
        "\n",
        "wp2        <- wp %>%\n",
        "  left_join(block_means, by=\"Block\") %>%\n",
        "  left_join(A_means,       by=\"Tr\")\n",
        "SS_BlockTr <- s * sum((wp2$wpm - wp2$bm - wp2$Am + gm)^2)\n",
        "SS_Hy      <- b * a * sum((B_means$Bm    - gm)^2)\n",
        "\n",
        "AB2        <- AB_marg %>%\n",
        "  left_join(A_means, by=\"Tr\") %>%\n",
        "  left_join(B_means, by=\"Hy\")\n",
        "SS_AB      <- b * sum((AB2$abm - AB2$Am - AB2$Bm + gm)^2)\n",
        "\n",
        "mod_full   <- lm(Total ~ Block + Tr + Block:Tr + Hy + Tr:Hy, data=d)\n",
        "SS_Resid   <- sum(resid(mod_full)^2)\n",
        "\n",
        "\n",
        "cat(\"SS(Block)      =\", round(SS_Block,2), \"\\n\")\n",
        "cat(\"SS(Tr)         =\", round(SS_Tr,2), \"\\n\")\n",
        "cat(\"SS(Block:Tr)   =\", round(SS_BlockTr,2), \"\\n\")\n",
        "cat(\"SS(Hy)         =\", round(SS_Hy,2), \"\\n\")\n",
        "cat(\"SS(Tr:Hy)      =\", round(SS_AB,2), \"\\n\")\n",
        "cat(\"SS(Residual)   =\", round(SS_Resid,2), \"\\n\\n\")"
      ],
      "metadata": {
        "colab": {
          "base_uri": "https://localhost:8080/",
          "height": 0
        },
        "id": "aPa9hxCmlFxk",
        "outputId": "d450d157-91ba-4369-d268-a3110266c0d2"
      },
      "execution_count": 4,
      "outputs": [
        {
          "output_type": "stream",
          "name": "stdout",
          "text": [
            "SS(Block)      = 9217.93 \n",
            "SS(Tr)         = 933538.2 \n",
            "SS(Block:Tr)   = 39632.37 \n",
            "SS(Hy)         = 3660663 \n",
            "SS(Tr:Hy)      = 839272.6 \n",
            "SS(Residual)   = 3657543 \n",
            "\n"
          ]
        }
      ]
    },
    {
      "cell_type": "markdown",
      "source": [
        "Consolidating all of'em.\n",
        "\n",
        "- Degree of F\n",
        "- MS\n",
        "- F\n",
        "- and the p\n"
      ],
      "metadata": {
        "id": "r5JWKyFQrn1a"
      }
    },
    {
      "cell_type": "code",
      "source": [
        "\n",
        "df_block  <- b - 1\n",
        "df_tr     <- a - 1\n",
        "df_bt     <- df_block\n",
        "df_hy     <- s - 1\n",
        "df_ab     <- df_tr * df_hy\n",
        "df_res    <- N - (df_block+1 + df_tr + df_bt + df_hy + df_ab)\n",
        "\n",
        "MS_Block  <- SS_Block/df_block\n",
        "MS_Tr     <- SS_Tr/df_tr\n",
        "MS_BT     <- SS_BlockTr/df_bt\n",
        "MS_Hy     <- SS_Hy/df_hy\n",
        "MS_AB     <- SS_AB/df_ab\n",
        "MS_Res    <- SS_Resid/df_res\n",
        "\n",
        "F_Tr      <- MS_Tr/MS_BT\n",
        "F_Hy      <- MS_Hy/MS_Res\n",
        "F_AB      <- MS_AB/MS_Res\n",
        "\n",
        "p_Tr      <- pf(F_Tr, df_tr, df_bt,   lower.tail=FALSE)\n",
        "p_Hy      <- pf(F_Hy, df_hy, df_res,  lower.tail=FALSE)\n",
        "p_AB      <- pf(F_AB, df_ab, df_res,  lower.tail=FALSE)\n",
        "\n",
        "library(tibble)\n",
        "manual <- tibble(\n",
        "  Source  = c(\"Block\",\"Tr\",    \"Block:Tr\",\"Hy\",   \"Tr:Hy\",\"Residual\"),\n",
        "  DF      = c(df_block, df_tr, df_bt,     df_hy,  df_ab, df_res),\n",
        "  SS      = c(SS_Block, SS_Tr, SS_BlockTr,SS_Hy,  SS_AB, SS_Resid),\n",
        "  MS      = c(MS_Block, MS_Tr, MS_BT,     MS_Hy,  MS_AB, MS_Res),\n",
        "  F_value = c(NA,       F_Tr,   NA,        F_Hy,   F_AB, NA),\n",
        "  p_value = c(NA,       p_Tr,   NA,        p_Hy,   p_AB, NA)\n",
        ")\n",
        "print(manual, digits=4)\n"
      ],
      "metadata": {
        "colab": {
          "base_uri": "https://localhost:8080/",
          "height": 0
        },
        "id": "JO4hwA5plJmC",
        "outputId": "3a5366c3-7744-48fd-9613-5645fb23ae89"
      },
      "execution_count": 5,
      "outputs": [
        {
          "output_type": "stream",
          "name": "stdout",
          "text": [
            "\u001b[90m# A tibble: 6 × 6\u001b[39m\n",
            "  Source      DF       SS      MS F_value   p_value\n",
            "  \u001b[3m\u001b[90m<chr>\u001b[39m\u001b[23m    \u001b[3m\u001b[90m<dbl>\u001b[39m\u001b[23m    \u001b[3m\u001b[90m<dbl>\u001b[39m\u001b[23m   \u001b[3m\u001b[90m<dbl>\u001b[39m\u001b[23m   \u001b[3m\u001b[90m<dbl>\u001b[39m\u001b[23m     \u001b[3m\u001b[90m<dbl>\u001b[39m\u001b[23m\n",
            "\u001b[90m1\u001b[39m Block        2    \u001b[4m9\u001b[24m218.   \u001b[4m4\u001b[24m609.   \u001b[31mNA\u001b[39m    \u001b[31mNA\u001b[39m   \u001b[90m \u001b[39m   \n",
            "\u001b[90m2\u001b[39m Tr           1  \u001b[4m9\u001b[24m\u001b[4m3\u001b[24m\u001b[4m3\u001b[24m538. \u001b[4m9\u001b[24m\u001b[4m3\u001b[24m\u001b[4m3\u001b[24m538.   47.1   2.06\u001b[90me\u001b[39m\u001b[31m- 2\u001b[39m\n",
            "\u001b[90m3\u001b[39m Block:Tr     2   \u001b[4m3\u001b[24m\u001b[4m9\u001b[24m632.  \u001b[4m1\u001b[24m\u001b[4m9\u001b[24m816.   \u001b[31mNA\u001b[39m    \u001b[31mNA\u001b[39m   \u001b[90m \u001b[39m   \n",
            "\u001b[90m4\u001b[39m Hy           4 3\u001b[4m6\u001b[24m\u001b[4m6\u001b[24m\u001b[4m0\u001b[24m663. \u001b[4m9\u001b[24m\u001b[4m1\u001b[24m\u001b[4m5\u001b[24m166.   26.5   2.99\u001b[90me\u001b[39m\u001b[31m-15\u001b[39m\n",
            "\u001b[90m5\u001b[39m Tr:Hy        4  \u001b[4m8\u001b[24m\u001b[4m3\u001b[24m\u001b[4m9\u001b[24m273. \u001b[4m2\u001b[24m\u001b[4m0\u001b[24m\u001b[4m9\u001b[24m818.    6.08  1.92\u001b[90me\u001b[39m\u001b[31m- 4\u001b[39m\n",
            "\u001b[90m6\u001b[39m Residual   106 3\u001b[4m6\u001b[24m\u001b[4m5\u001b[24m\u001b[4m7\u001b[24m543.  \u001b[4m3\u001b[24m\u001b[4m4\u001b[24m505.   \u001b[31mNA\u001b[39m    \u001b[31mNA\u001b[39m   \u001b[90m \u001b[39m   \n"
          ]
        }
      ]
    },
    {
      "cell_type": "markdown",
      "source": [
        "**Let check the ANOVA from the function.**\n",
        "\n",
        "And pray the values are same : D"
      ],
      "metadata": {
        "id": "9mOPY1wxr3o3"
      }
    },
    {
      "cell_type": "code",
      "source": [
        "# 1.6 Compare to built‐in aov()\n",
        "cat(\"\\n--- aov() summary ---\\n\")\n",
        "sp.aov <- aov(Total ~ Tr*Hy + Error(Block/Tr), data=d)\n",
        "summary(sp.aov)\n",
        "\n"
      ],
      "metadata": {
        "colab": {
          "base_uri": "https://localhost:8080/",
          "height": 392
        },
        "id": "VJJLxQmjlN6p",
        "outputId": "5c74778a-1004-4418-c521-f73d3ff2e220"
      },
      "execution_count": 19,
      "outputs": [
        {
          "output_type": "stream",
          "name": "stdout",
          "text": [
            "\n",
            "--- aov() summary ---\n"
          ]
        },
        {
          "output_type": "display_data",
          "data": {
            "text/plain": [
              "\n",
              "Error: Block\n",
              "          Df Sum Sq Mean Sq F value Pr(>F)\n",
              "Residuals  2  36872   18436               \n",
              "\n",
              "Error: Block:Tr\n",
              "          Df  Sum Sq Mean Sq F value Pr(>F)  \n",
              "Tr         1 3734153 3734153   47.11 0.0206 *\n",
              "Residuals  2  158529   79265                 \n",
              "---\n",
              "Signif. codes:  0 ‘***’ 0.001 ‘**’ 0.01 ‘*’ 0.05 ‘.’ 0.1 ‘ ’ 1\n",
              "\n",
              "Error: Within\n",
              "           Df   Sum Sq Mean Sq F value  Pr(>F)    \n",
              "Hy          4 14642653 3660663  106.09 < 2e-16 ***\n",
              "Tr:Hy       4  3357090  839273   24.32 2.7e-14 ***\n",
              "Residuals 106  3657543   34505                    \n",
              "---\n",
              "Signif. codes:  0 ‘***’ 0.001 ‘**’ 0.01 ‘*’ 0.05 ‘.’ 0.1 ‘ ’ 1"
            ]
          },
          "metadata": {}
        }
      ]
    },
    {
      "cell_type": "code",
      "source": [
        "#install.packages(\"lme4\")\n",
        "#install.packages(\"emmeans\")\n",
        "#install.packages(\"car\")\n",
        "#install.packages(\"glmnet\")\n"
      ],
      "metadata": {
        "colab": {
          "base_uri": "https://localhost:8080/",
          "height": 0
        },
        "id": "KIo74FmAlz2Q",
        "outputId": "93b26944-f500-4b03-8fb5-b97c8c1474c3"
      },
      "execution_count": 17,
      "outputs": [
        {
          "output_type": "stream",
          "name": "stderr",
          "text": [
            "Installing package into ‘/usr/local/lib/R/site-library’\n",
            "(as ‘lib’ is unspecified)\n",
            "\n",
            "also installing the dependencies ‘iterators’, ‘foreach’, ‘shape’\n",
            "\n",
            "\n"
          ]
        }
      ]
    },
    {
      "cell_type": "markdown",
      "source": [
        "**Now solving the Problem number 2.**"
      ],
      "metadata": {
        "id": "KTazn7E6snOl"
      }
    },
    {
      "cell_type": "code",
      "source": [
        "\n",
        "library(lme4); library(emmeans)\n",
        "mod   <- lmer(Total ~ Tr*Hy + (1|Block) + (1|Block:Tr), data=d)\n",
        "summary(mod)\n",
        "\n",
        "emm   <- emmeans(mod, ~ Hy*Tr)\n",
        "pairs(emm, adjust=\"tukey\")\n"
      ],
      "metadata": {
        "colab": {
          "base_uri": "https://localhost:8080/",
          "height": 2053
        },
        "id": "AYiuoeAplQaa",
        "outputId": "b4084c65-c690-4af0-ca9b-5dc935b6ca0c"
      },
      "execution_count": 13,
      "outputs": [
        {
          "output_type": "stream",
          "name": "stderr",
          "text": [
            "Welcome to emmeans.\n",
            "Caution: You lose important information if you filter this package's results.\n",
            "See '? untidy'\n",
            "\n",
            "boundary (singular) fit: see help('isSingular')\n",
            "\n",
            "Warning message in abbreviate(rn, minlength = 11):\n",
            "“abbreviate used with non-ASCII chars”\n",
            "Warning message in abbreviate(rn, minlength = 6):\n",
            "“abbreviate used with non-ASCII chars”\n",
            "Warning message in abbreviate(rn, minlength = 6):\n",
            "“abbreviate used with non-ASCII chars”\n",
            "Warning message in abbreviate(rn, minlength = 6):\n",
            "“abbreviate used with non-ASCII chars”\n",
            "Warning message in abbreviate(rn, minlength = 6):\n",
            "“abbreviate used with non-ASCII chars”\n",
            "Warning message in abbreviate(rn, minlength = 6):\n",
            "“abbreviate used with non-ASCII chars”\n"
          ]
        },
        {
          "output_type": "display_data",
          "data": {
            "text/plain": [
              "Linear mixed model fit by REML ['lmerMod']\n",
              "Formula: Total ~ Tr * Hy + (1 | Block) + (1 | Block:Tr)\n",
              "   Data: d\n",
              "\n",
              "REML criterion at convergence: 1487.8\n",
              "\n",
              "Scaled residuals: \n",
              "    Min      1Q  Median      3Q     Max \n",
              "-2.6273 -0.5464 -0.1582  0.6229  2.3150 \n",
              "\n",
              "Random effects:\n",
              " Groups   Name        Variance  Std.Dev. \n",
              " Block:Tr (Intercept) 7.173e+02 2.678e+01\n",
              " Block    (Intercept) 6.678e-06 2.584e-03\n",
              " Residual             3.451e+04 1.858e+02\n",
              "Number of obs: 120, groups:  Block:Tr, 6; Block, 3\n",
              "\n",
              "Fixed effects:\n",
              "                 Estimate Std. Error t value\n",
              "(Intercept)        592.36      55.81  10.614\n",
              "TrSun               26.11      78.92   0.331\n",
              "Hy465             -129.86      75.83  -1.712\n",
              "HyMulato           484.58      75.83   6.390\n",
              "HyTalismán         786.25      75.83  10.368\n",
              "HyToledo          -244.31      75.83  -3.222\n",
              "TrSun:Hy465        865.83     107.25   8.073\n",
              "TrSun:HyMulato     472.22     107.25   4.403\n",
              "TrSun:HyTalismán   -48.33     107.25  -0.451\n",
              "TrSun:HyToledo     343.75     107.25   3.205\n",
              "\n",
              "Correlation of Fixed Effects:\n",
              "            (Intr) TrSun  Hy465  HyMult HyTlsm HyTold TS:H46 TrS:HM TrSn:HyTls\n",
              "TrSun       -0.707                                                            \n",
              "Hy465       -0.679  0.480                                                     \n",
              "HyMulato    -0.679  0.480  0.500                                              \n",
              "HyTalismán  -0.679  0.480  0.500  0.500                                       \n",
              "HyToledo    -0.679  0.480  0.500  0.500  0.500                                \n",
              "TrSun:Hy465  0.480 -0.679 -0.707 -0.354 -0.354 -0.354                         \n",
              "TrSun:HyMlt  0.480 -0.679 -0.354 -0.707 -0.354 -0.354  0.500                  \n",
              "TrSn:HyTlsm  0.480 -0.679 -0.354 -0.354 -0.707 -0.354  0.500  0.500           \n",
              "TrSun:HyTld  0.480 -0.679 -0.354 -0.354 -0.354 -0.707  0.500  0.500  0.500    \n",
              "optimizer (nloptwrap) convergence code: 0 (OK)\n",
              "boundary (singular) fit: see help('isSingular')\n"
            ]
          },
          "metadata": {}
        },
        {
          "output_type": "stream",
          "name": "stderr",
          "text": [
            "Cannot use mode = \"kenward-roger\" because *pbkrtest* package is not installed\n",
            "\n",
            "Cannot use mode = \"satterthwaite\" because *lmerTest* package is not installed\n",
            "\n"
          ]
        },
        {
          "output_type": "display_data",
          "data": {
            "text/plain": [
              " contrast                      estimate   SE  df z.ratio p.value\n",
              " 423 Shade - 465 Shade           129.86 75.8 Inf   1.712  0.7888\n",
              " 423 Shade - Mulato Shade       -484.58 75.8 Inf  -6.390  <.0001\n",
              " 423 Shade - Talismán Shade     -786.25 75.8 Inf -10.368  <.0001\n",
              " 423 Shade - Toledo Shade        244.31 75.8 Inf   3.222  0.0419\n",
              " 423 Shade - 423 Sun             -26.11 78.9 Inf  -0.331  1.0000\n",
              " 423 Shade - 465 Sun            -762.08 78.9 Inf  -9.656  <.0001\n",
              " 423 Shade - Mulato Sun         -982.92 78.9 Inf -12.454  <.0001\n",
              " 423 Shade - Talismán Sun       -764.03 78.9 Inf  -9.681  <.0001\n",
              " 423 Shade - Toledo Sun         -125.56 78.9 Inf  -1.591  0.8530\n",
              " 465 Shade - Mulato Shade       -614.44 75.8 Inf  -8.102  <.0001\n",
              " 465 Shade - Talismán Shade     -916.11 75.8 Inf -12.080  <.0001\n",
              " 465 Shade - Toledo Shade        114.44 75.8 Inf   1.509  0.8890\n",
              " 465 Shade - 423 Sun            -155.97 78.9 Inf  -1.976  0.6159\n",
              " 465 Shade - 465 Sun            -891.94 78.9 Inf -11.301  <.0001\n",
              " 465 Shade - Mulato Sun        -1112.78 78.9 Inf -14.099  <.0001\n",
              " 465 Shade - Talismán Sun       -893.89 78.9 Inf -11.326  <.0001\n",
              " 465 Shade - Toledo Sun         -255.42 78.9 Inf  -3.236  0.0400\n",
              " Mulato Shade - Talismán Shade  -301.67 75.8 Inf  -3.978  0.0028\n",
              " Mulato Shade - Toledo Shade     728.89 75.8 Inf   9.612  <.0001\n",
              " Mulato Shade - 423 Sun          458.47 78.9 Inf   5.809  <.0001\n",
              " Mulato Shade - 465 Sun         -277.50 78.9 Inf  -3.516  0.0159\n",
              " Mulato Shade - Mulato Sun      -498.33 78.9 Inf  -6.314  <.0001\n",
              " Mulato Shade - Talismán Sun    -279.44 78.9 Inf  -3.541  0.0146\n",
              " Mulato Shade - Toledo Sun       359.03 78.9 Inf   4.549  0.0002\n",
              " Talismán Shade - Toledo Shade  1030.56 75.8 Inf  13.590  <.0001\n",
              " Talismán Shade - 423 Sun        760.14 78.9 Inf   9.631  <.0001\n",
              " Talismán Shade - 465 Sun         24.17 78.9 Inf   0.306  1.0000\n",
              " Talismán Shade - Mulato Sun    -196.67 78.9 Inf  -2.492  0.2726\n",
              " Talismán Shade - Talismán Sun    22.22 78.9 Inf   0.282  1.0000\n",
              " Talismán Shade - Toledo Sun     660.69 78.9 Inf   8.371  <.0001\n",
              " Toledo Shade - 423 Sun         -270.42 78.9 Inf  -3.426  0.0216\n",
              " Toledo Shade - 465 Sun        -1006.39 78.9 Inf -12.751  <.0001\n",
              " Toledo Shade - Mulato Sun     -1227.22 78.9 Inf -15.549  <.0001\n",
              " Toledo Shade - Talismán Sun   -1008.33 78.9 Inf -12.776  <.0001\n",
              " Toledo Shade - Toledo Sun      -369.86 78.9 Inf  -4.686  0.0001\n",
              " 423 Sun - 465 Sun              -735.97 75.8 Inf  -9.705  <.0001\n",
              " 423 Sun - Mulato Sun           -956.81 75.8 Inf -12.617  <.0001\n",
              " 423 Sun - Talismán Sun         -737.92 75.8 Inf  -9.731  <.0001\n",
              " 423 Sun - Toledo Sun            -99.44 75.8 Inf  -1.311  0.9514\n",
              " 465 Sun - Mulato Sun           -220.83 75.8 Inf  -2.912  0.1021\n",
              " 465 Sun - Talismán Sun           -1.94 75.8 Inf  -0.026  1.0000\n",
              " 465 Sun - Toledo Sun            636.53 75.8 Inf   8.394  <.0001\n",
              " Mulato Sun - Talismán Sun       218.89 75.8 Inf   2.886  0.1093\n",
              " Mulato Sun - Toledo Sun         857.36 75.8 Inf  11.306  <.0001\n",
              " Talismán Sun - Toledo Sun       638.47 75.8 Inf   8.419  <.0001\n",
              "\n",
              "Degrees-of-freedom method: asymptotic \n",
              "P value adjustment: tukey method for comparing a family of 10 estimates "
            ]
          },
          "metadata": {}
        }
      ]
    },
    {
      "cell_type": "markdown",
      "source": [
        "\n",
        "\n",
        "\n",
        "\n",
        "\n",
        "**Solving the problem number 3**\n",
        "\n",
        "\n"
      ],
      "metadata": {
        "id": "ckTxvVmCsuqN"
      }
    },
    {
      "cell_type": "code",
      "source": [
        "\n",
        "library(car)\n",
        "lm0   <- lm(Total ~ Tr*Hy, data=d)\n",
        "cat(\"\\nVIFs:\\n\"); print(vif(lm0))\n",
        "\n",
        "\n",
        "cn <- kappa(cor(model.matrix(lm0)[,-1]), exact=TRUE)\n",
        "cat(\"\\nCondition number:\", round(cn,2), \"\\n\")\n",
        "\n",
        "\n",
        "library(glmnet)\n",
        "x <- model.matrix(~ Tr*Hy -1, d); y <- d$Total\n",
        "cv <- cv.glmnet(x,y,alpha=0)\n",
        "print(coef(glmnet(x,y,alpha=0,lambda=cv$lambda.min)))\n",
        "\n",
        "contrasts(d$Hy) <- contr.helmert(5)\n",
        "contrasts(d$Tr) <- contr.helmert(2)\n",
        "summary(lm(Total~Tr*Hy, data=d))\n",
        "\n",
        "mm2 <- lmer(Total ~ Tr*Hy + (1+Tr|Block), data=d)\n",
        "Anova(mm2, type=3)\n",
        "\n",
        "\n"
      ],
      "metadata": {
        "colab": {
          "base_uri": "https://localhost:8080/",
          "height": 1188
        },
        "id": "rYjKPgpHl7j3",
        "outputId": "f7c4ca11-1b04-4cfa-d7f1-7c95bca05d96"
      },
      "execution_count": 18,
      "outputs": [
        {
          "output_type": "stream",
          "name": "stdout",
          "text": [
            "\n",
            "VIFs:\n"
          ]
        },
        {
          "output_type": "stream",
          "name": "stderr",
          "text": [
            "there are higher-order terms (interactions) in this model\n",
            "consider setting type = 'predictor'; see ?vif\n",
            "\n"
          ]
        },
        {
          "output_type": "stream",
          "name": "stdout",
          "text": [
            "      GVIF Df GVIF^(1/(2*Df))\n",
            "Tr       5  1        2.236068\n",
            "Hy      16  4        1.414214\n",
            "Tr:Hy   48  4        1.622390\n",
            "\n",
            "Condition number: 37 \n"
          ]
        },
        {
          "output_type": "stream",
          "name": "stderr",
          "text": [
            "Loaded glmnet 4.1-8\n",
            "\n"
          ]
        },
        {
          "output_type": "stream",
          "name": "stdout",
          "text": [
            "11 x 1 sparse Matrix of class \"dgCMatrix\"\n",
            "                         s0\n",
            "(Intercept)       633.37484\n",
            "TrShade           -32.51962\n",
            "TrSun              38.49672\n",
            "Hy465            -100.06457\n",
            "HyMulato          460.23253\n",
            "HyTalismán        723.71923\n",
            "HyToledo         -225.72004\n",
            "TrSun:Hy465       751.85136\n",
            "TrSun:HyMulato    425.73752\n",
            "TrSun:HyTalismán  -37.67859\n",
            "TrSun:HyToledo    261.09372\n"
          ]
        },
        {
          "output_type": "display_data",
          "data": {
            "text/plain": [
              "\n",
              "Call:\n",
              "lm(formula = Total ~ Tr * Hy, data = d)\n",
              "\n",
              "Residuals:\n",
              "    Min      1Q  Median      3Q     Max \n",
              "-494.44  -99.06  -26.88  112.22  434.72 \n",
              "\n",
              "Coefficients:\n",
              "            Estimate Std. Error t value Pr(>|t|)    \n",
              "(Intercept)  948.097     17.085  55.494  < 2e-16 ***\n",
              "Tr1          176.403     17.085  10.325  < 2e-16 ***\n",
              "Hy1          151.528     27.013   5.609 1.53e-07 ***\n",
              "Hy2          189.722     15.596  12.165  < 2e-16 ***\n",
              "Hy3          105.208     11.028   9.540 4.44e-16 ***\n",
              "Hy4         -103.778      8.542 -12.149  < 2e-16 ***\n",
              "Tr1:Hy1      216.458     27.013   8.013 1.28e-12 ***\n",
              "Tr1:Hy2        6.551     15.596   0.420    0.675    \n",
              "Tr1:Hy3      -61.794     11.028  -5.603 1.57e-07 ***\n",
              "Tr1:Hy4        2.132      8.542   0.250    0.803    \n",
              "---\n",
              "Signif. codes:  0 ‘***’ 0.001 ‘**’ 0.01 ‘*’ 0.05 ‘.’ 0.1 ‘ ’ 1\n",
              "\n",
              "Residual standard error: 187.2 on 110 degrees of freedom\n",
              "Multiple R-squared:  0.8494,\tAdjusted R-squared:  0.8371 \n",
              "F-statistic: 68.94 on 9 and 110 DF,  p-value: < 2.2e-16\n"
            ]
          },
          "metadata": {}
        },
        {
          "output_type": "stream",
          "name": "stderr",
          "text": [
            "boundary (singular) fit: see help('isSingular')\n",
            "\n"
          ]
        },
        {
          "output_type": "display_data",
          "data": {
            "text/html": [
              "<table class=\"dataframe\">\n",
              "<caption>A anova: 4 × 3</caption>\n",
              "<thead>\n",
              "\t<tr><th></th><th scope=col>Chisq</th><th scope=col>Df</th><th scope=col>Pr(&gt;Chisq)</th></tr>\n",
              "\t<tr><th></th><th scope=col>&lt;dbl&gt;</th><th scope=col>&lt;dbl&gt;</th><th scope=col>&lt;dbl&gt;</th></tr>\n",
              "</thead>\n",
              "<tbody>\n",
              "\t<tr><th scope=row>(Intercept)</th><td>3153.29901</td><td>1</td><td>0.000000e+00</td></tr>\n",
              "\t<tr><th scope=row>Tr</th><td>  47.10927</td><td>1</td><td>6.713737e-12</td></tr>\n",
              "\t<tr><th scope=row>Hy</th><td> 428.05337</td><td>4</td><td>2.409262e-91</td></tr>\n",
              "\t<tr><th scope=row>Tr:Hy</th><td>  98.13890</td><td>4</td><td>2.448957e-20</td></tr>\n",
              "</tbody>\n",
              "</table>\n"
            ],
            "text/markdown": "\nA anova: 4 × 3\n\n| <!--/--> | Chisq &lt;dbl&gt; | Df &lt;dbl&gt; | Pr(&gt;Chisq) &lt;dbl&gt; |\n|---|---|---|---|\n| (Intercept) | 3153.29901 | 1 | 0.000000e+00 |\n| Tr |   47.10927 | 1 | 6.713737e-12 |\n| Hy |  428.05337 | 4 | 2.409262e-91 |\n| Tr:Hy |   98.13890 | 4 | 2.448957e-20 |\n\n",
            "text/latex": "A anova: 4 × 3\n\\begin{tabular}{r|lll}\n  & Chisq & Df & Pr(>Chisq)\\\\\n  & <dbl> & <dbl> & <dbl>\\\\\n\\hline\n\t(Intercept) & 3153.29901 & 1 & 0.000000e+00\\\\\n\tTr &   47.10927 & 1 & 6.713737e-12\\\\\n\tHy &  428.05337 & 4 & 2.409262e-91\\\\\n\tTr:Hy &   98.13890 & 4 & 2.448957e-20\\\\\n\\end{tabular}\n",
            "text/plain": [
              "            Chisq      Df Pr(>Chisq)  \n",
              "(Intercept) 3153.29901 1  0.000000e+00\n",
              "Tr            47.10927 1  6.713737e-12\n",
              "Hy           428.05337 4  2.409262e-91\n",
              "Tr:Hy         98.13890 4  2.448957e-20"
            ]
          },
          "metadata": {}
        }
      ]
    },
    {
      "cell_type": "markdown",
      "source": [
        "Justification & Choice\n",
        "\n",
        "- Severity: The original design shows only mild multicollinearity (VIF ≤ 2.24, condition number = 37), which does not threaten the validity of our hypothesis tests or confidence intervals.\n",
        "\n",
        "- Ridge regression is a useful safety check—its near‐identical coefficients reassure us—but it introduces bias and complicates interpretation.\n",
        "\n",
        "- Helmert contrasts perfectly eliminate correlation among predictors, which can be valuable for publication tables or teaching contrasts, but they change the parameterization.\n",
        "\n",
        "**Conclusion**: Because collinearity is mild, we retain the straightforward Tr×Hy parameterization for primary inference. If orthogonal parameter estimates are ever needed (e.g. for clearer coefficient tables), switching to Helmert contrasts is the simplest remedy."
      ],
      "metadata": {
        "id": "9bW9LmlAs_kd"
      }
    },
    {
      "cell_type": "code",
      "source": [],
      "metadata": {
        "id": "Kypm5fODoQp_"
      },
      "execution_count": 20,
      "outputs": []
    }
  ]
}